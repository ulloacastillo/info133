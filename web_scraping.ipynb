{
 "cells": [
  {
   "cell_type": "code",
   "execution_count": 1,
   "metadata": {},
   "outputs": [],
   "source": [
    "import requests\n",
    "from bs4 import BeautifulSoup"
   ]
  },
  {
   "cell_type": "code",
   "execution_count": 2,
   "metadata": {},
   "outputs": [],
   "source": [
    "r = requests.get(\"https://docs.google.com/spreadsheets/d/1OrE-3TR0k8SSiu3rvrs6LwmsACM45MFIxtSS4UzO7ws/edit#gid=0\")\n",
    "bs = BeautifulSoup(r.text, 'html5lib')"
   ]
  },
  {
   "cell_type": "code",
   "execution_count": 3,
   "metadata": {},
   "outputs": [],
   "source": [
    "medios = []\n",
    "webs = []\n",
    "\n",
    "tabla = bs.find_all(\"tr\")[2:58]\n",
    "i = 0\n",
    "\n",
    "for rows in tabla:\n",
    "    row = rows.find_all(\"td\")\n",
    "    medios.append(row[0].get_text())\n",
    "    webs.append(row[1].get_text())\n",
    "    "
   ]
  },
  {
   "cell_type": "code",
   "execution_count": null,
   "metadata": {},
   "outputs": [],
   "source": []
  },
  {
   "cell_type": "code",
   "execution_count": 4,
   "metadata": {},
   "outputs": [
    {
     "name": "stdout",
     "output_type": "stream",
     "text": [
      "['https://aristeguinoticias.com', 'https://www.elfinanciero.com.mx', 'https://www.eluniversal.com.mx', 'https://www.eleconomista.com.mx', 'https://www.wsj.com', 'https://www.washingtonpost.com/?gclid=CjwKCAjwqJ_1BRBZEiwAv73uwBDit2oyWp7R0RoZ7YSEVLDV5FCJXeHxBSlqpjx1naO-bzPzB1b7YBoCpxgQAvD_BwE&utm_campaign=intl_news_search_global&utm_medium=google&utm_source=acquisition', 'https://www.npr.org/sections/news/', 'https://abcnews.go.com', 'https://www.nytimes.com', 'https://ici.radio-canada.ca/info', 'https://www.tvanouvelles.ca', 'https://www.lapresse.ca', 'https://www.sbt.com.br/jornalismo/sbt-brasil', 'http://www.bandnewsfm.com.br', 'https://noticias.r7.com/record-news', 'https://www.biobiochile.cl', 'https://www.cnnchile.com', 'https://www.cooperativa.cl', 'https://www.24horas.cl', 'https://www.bbc.com/news', 'https://www.channel4.com/news/', 'https://www.itv.com/news/', 'https://www.thetimes.co.uk', 'https://www.ft.com', 'https://www.lemonde.fr', 'https://www.lefigaro.fr', 'https://www.lexpress.fr', 'https://www.mediapart.fr', 'https://www.antena3.com/', 'https://elpais.com/', 'https://cadenaser.com/', 'http://global.chinadaily.com.cn/', 'http://www.xinhuanet.com/english/', 'http://en.people.cn/', 'http://www.globaltimes.cn/', 'http://english.cctv.com/', 'https://daily.bhaskar.com/', 'https://timesofindia.indiatimes.com/us', 'https://www.thehindu.com/', 'https://www.hindustantimes.com/', 'https://mumbaimirror.indiatimes.com/', 'https://www.abc.net.au/news/', 'https://7news.com.au/', 'https://www.sbs.com.au/news/', 'https://www.afr.com/', 'https://www.rnz.co.nz/', 'https://www.stuff.co.nz/national', 'https://www.tvnz.co.nz/one-news', 'https://www.nzherald.co.nz/', 'https://www.newshub.co.nz/home.html', 'https://guardian.ng/', 'https://www.vanguardngr.com/', 'https://www.thisdaylive.com/', 'https://www.news24.com/SouthAfrica', 'https://www.enca.com/', 'https://www.businesslive.co.za/'] ['Aristegui Noticias', 'El Financiero', 'El Universal', 'El Economista', 'Wall Street Journal', 'Washington Post', 'NPR News', 'ABC News', 'New York Times', 'ICI Radio-Canada Info/ICI RDI', 'TVA Nouvelles/LCN', 'La Presse', 'Jornal do SBT', 'Band News', 'Record News', 'Bío Bío Chile', 'CNN-chile', 'Cooperativa', '24Horas', 'BBC News', 'Channel 4 News', 'ITV News', 'The Times', 'Financial Times', 'Le Monde ', 'Le Figaro', \"L'Express\", 'Mediapart', 'Antena 3', 'El País', 'Cadena Ser', 'China Daily', 'Xinhuanet', \"People's Daily\", 'Global Times', 'CCTV', 'Daily Bhaskar', 'The Times of India', 'The Hindu', 'HindustanTimes', 'Mumbai Mirror', 'ABC News AU', 'Channel 7 News', 'SBS News AU', 'Finantial Review', 'Radio New Zealand', 'Sunday Star Times', 'TV New Zealand Noticias', 'New Zealand Herald', 'News HUB', 'The Guardian NG', 'Vanguard NG', 'This Day Live', 'News24', 'eNCA', 'Business live']\n"
     ]
    }
   ],
   "source": [
    "print(webs, medios)"
   ]
  },
  {
   "cell_type": "code",
   "execution_count": 5,
   "metadata": {},
   "outputs": [
    {
     "data": {
      "text/plain": [
       "[<td class=\"s1\">Aristegui Noticias</td>,\n",
       " <td class=\"s2 softmerge\"><div class=\"softmerge-inner\" style=\"width: 136px; left: -1px;\">https://aristeguinoticias.com</div></td>,\n",
       " <td class=\"s0\">México</td>,\n",
       " <td class=\"s3\">7 535 309</td>,\n",
       " <td class=\"s2 softmerge\"><div class=\"softmerge-inner\" style=\"width: 136px; left: -1px;\">https://www.facebook.com/AristeguiOnline</div></td>,\n",
       " <td class=\"s0\">8.5M</td>,\n",
       " <td class=\"s2 softmerge\"><div class=\"softmerge-inner\" style=\"width: 136px; left: -1px;\">https://twitter.com/aristeguionline</div></td>,\n",
       " <td class=\"s3\">2012</td>,\n",
       " <td class=\"s0 softmerge\"><div class=\"softmerge-inner\" style=\"width: 136px; left: -1px;\">Grupo de Periodistas Independientes</div></td>,\n",
       " <td class=\"s0\">Carmen Aristegui</td>,\n",
       " <td></td>,\n",
       " <td></td>,\n",
       " <td></td>,\n",
       " <td></td>,\n",
       " <td></td>,\n",
       " <td></td>,\n",
       " <td></td>,\n",
       " <td></td>,\n",
       " <td></td>,\n",
       " <td></td>,\n",
       " <td></td>,\n",
       " <td></td>,\n",
       " <td></td>,\n",
       " <td></td>,\n",
       " <td></td>,\n",
       " <td></td>]"
      ]
     },
     "execution_count": 5,
     "metadata": {},
     "output_type": "execute_result"
    }
   ],
   "source": [
    "bs.find_all(\"tr\")[2].find_all(\"td\")"
   ]
  },
  {
   "cell_type": "code",
   "execution_count": null,
   "metadata": {},
   "outputs": [],
   "source": []
  }
 ],
 "metadata": {
  "kernelspec": {
   "display_name": "Python 3",
   "language": "python",
   "name": "python3"
  },
  "language_info": {
   "codemirror_mode": {
    "name": "ipython",
    "version": 3
   },
   "file_extension": ".py",
   "mimetype": "text/x-python",
   "name": "python",
   "nbconvert_exporter": "python",
   "pygments_lexer": "ipython3",
   "version": "3.8.3"
  }
 },
 "nbformat": 4,
 "nbformat_minor": 4
}
